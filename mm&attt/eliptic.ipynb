{
 "cells": [
  {
   "cell_type": "markdown",
   "id": "6ab9fc08",
   "metadata": {},
   "source": [
    "**Import**"
   ]
  },
  {
   "cell_type": "code",
   "execution_count": 8,
   "id": "557d6590",
   "metadata": {},
   "outputs": [],
   "source": [
    "\n",
    "from tinyec.ec import SubGroup, Curve\n",
    "from util import generate_prime_number, add_points, mul_point, modinv, mod_exp\n",
    "import secrets\n",
    "import random\n"
   ]
  },
  {
   "cell_type": "code",
   "execution_count": 9,
   "id": "b9dc9752",
   "metadata": {},
   "outputs": [
    {
     "name": "stdout",
     "output_type": "stream",
     "text": [
      "✅ p = 13285020848308471219\n",
      "✅ Đường cong: y² = x³ + 12042803703396870632x + 13005512341055249220 (mod 13285020848308471219)\n",
      "✅ G = (5716160276262140976, 1293214199951857155)\n"
     ]
    },
    {
     "ename": "KeyboardInterrupt",
     "evalue": "",
     "output_type": "error",
     "traceback": [
      "\u001b[1;31m---------------------------------------------------------------------------\u001b[0m",
      "\u001b[1;31mKeyboardInterrupt\u001b[0m                         Traceback (most recent call last)",
      "Cell \u001b[1;32mIn[9], line 52\u001b[0m\n\u001b[0;32m     49\u001b[0m \u001b[38;5;28mprint\u001b[39m(\u001b[38;5;124mf\u001b[39m\u001b[38;5;124m\"\u001b[39m\u001b[38;5;124m✅ G = \u001b[39m\u001b[38;5;132;01m{\u001b[39;00mG\u001b[38;5;132;01m}\u001b[39;00m\u001b[38;5;124m\"\u001b[39m)\n\u001b[0;32m     51\u001b[0m d \u001b[38;5;241m=\u001b[39m random\u001b[38;5;241m.\u001b[39mrandint(\u001b[38;5;241m2\u001b[39m, p\u001b[38;5;241m-\u001b[39m\u001b[38;5;241m2\u001b[39m)      \u001b[38;5;66;03m# Khóa bí mật\u001b[39;00m\n\u001b[1;32m---> 52\u001b[0m Q \u001b[38;5;241m=\u001b[39m \u001b[43mmul_point\u001b[49m\u001b[43m(\u001b[49m\u001b[43md\u001b[49m\u001b[43m,\u001b[49m\u001b[43m \u001b[49m\u001b[43mG\u001b[49m\u001b[43m,\u001b[49m\u001b[43m \u001b[49m\u001b[43ma\u001b[49m\u001b[43m,\u001b[49m\u001b[43m \u001b[49m\u001b[43mp\u001b[49m\u001b[43m)\u001b[49m       \u001b[38;5;66;03m# Khóa công khai\u001b[39;00m\n\u001b[0;32m     53\u001b[0m \u001b[38;5;28mprint\u001b[39m(\u001b[38;5;124mf\u001b[39m\u001b[38;5;124m\"\u001b[39m\u001b[38;5;130;01m\\n\u001b[39;00m\u001b[38;5;124m🔹 Khóa bí mật d = \u001b[39m\u001b[38;5;132;01m{\u001b[39;00md\u001b[38;5;132;01m}\u001b[39;00m\u001b[38;5;124m\"\u001b[39m)\n\u001b[0;32m     54\u001b[0m \u001b[38;5;28mprint\u001b[39m(\u001b[38;5;124mf\u001b[39m\u001b[38;5;124m\"\u001b[39m\u001b[38;5;124m🔹 Khóa công khai Q = \u001b[39m\u001b[38;5;132;01m{\u001b[39;00mQ\u001b[38;5;132;01m}\u001b[39;00m\u001b[38;5;124m\"\u001b[39m)\n",
      "File \u001b[1;32mc:\\Users\\ACER\\Documents\\Junior-year-first-semester\\mm&attt\\util.py:166\u001b[0m, in \u001b[0;36mmul_point\u001b[1;34m(k, P, a, p)\u001b[0m\n\u001b[0;32m    164\u001b[0m R \u001b[38;5;241m=\u001b[39m (\u001b[38;5;124m\"\u001b[39m\u001b[38;5;124mO\u001b[39m\u001b[38;5;124m\"\u001b[39m, \u001b[38;5;124m\"\u001b[39m\u001b[38;5;124mO\u001b[39m\u001b[38;5;124m\"\u001b[39m)\n\u001b[0;32m    165\u001b[0m \u001b[38;5;28;01mfor\u001b[39;00m _ \u001b[38;5;129;01min\u001b[39;00m \u001b[38;5;28mrange\u001b[39m(k):\n\u001b[1;32m--> 166\u001b[0m     R \u001b[38;5;241m=\u001b[39m \u001b[43madd_points\u001b[49m\u001b[43m(\u001b[49m\u001b[43mR\u001b[49m\u001b[43m,\u001b[49m\u001b[43m \u001b[49m\u001b[43mP\u001b[49m\u001b[43m,\u001b[49m\u001b[43m \u001b[49m\u001b[43ma\u001b[49m\u001b[43m,\u001b[49m\u001b[43m \u001b[49m\u001b[43mp\u001b[49m\u001b[43m)\u001b[49m\n\u001b[0;32m    167\u001b[0m \u001b[38;5;28;01mreturn\u001b[39;00m R\n",
      "File \u001b[1;32mc:\\Users\\ACER\\Documents\\Junior-year-first-semester\\mm&attt\\util.py:156\u001b[0m, in \u001b[0;36madd_points\u001b[1;34m(P, Q, a, p)\u001b[0m\n\u001b[0;32m    154\u001b[0m     s \u001b[38;5;241m=\u001b[39m ((\u001b[38;5;241m3\u001b[39m \u001b[38;5;241m*\u001b[39m x1 \u001b[38;5;241m*\u001b[39m x1 \u001b[38;5;241m+\u001b[39m a) \u001b[38;5;241m*\u001b[39m modinv(\u001b[38;5;241m2\u001b[39m \u001b[38;5;241m*\u001b[39m y1, p)) \u001b[38;5;241m%\u001b[39m p\n\u001b[0;32m    155\u001b[0m \u001b[38;5;28;01melse\u001b[39;00m:\n\u001b[1;32m--> 156\u001b[0m     s \u001b[38;5;241m=\u001b[39m ((y2 \u001b[38;5;241m-\u001b[39m y1) \u001b[38;5;241m*\u001b[39m \u001b[43mmodinv\u001b[49m\u001b[43m(\u001b[49m\u001b[43m(\u001b[49m\u001b[43mx2\u001b[49m\u001b[43m \u001b[49m\u001b[38;5;241;43m-\u001b[39;49m\u001b[43m \u001b[49m\u001b[43mx1\u001b[49m\u001b[43m)\u001b[49m\u001b[43m \u001b[49m\u001b[38;5;241;43m%\u001b[39;49m\u001b[43m \u001b[49m\u001b[43mp\u001b[49m\u001b[43m,\u001b[49m\u001b[43m \u001b[49m\u001b[43mp\u001b[49m\u001b[43m)\u001b[49m) \u001b[38;5;241m%\u001b[39m p\n\u001b[0;32m    158\u001b[0m x3 \u001b[38;5;241m=\u001b[39m (s \u001b[38;5;241m*\u001b[39m s \u001b[38;5;241m-\u001b[39m x1 \u001b[38;5;241m-\u001b[39m x2) \u001b[38;5;241m%\u001b[39m p\n\u001b[0;32m    159\u001b[0m y3 \u001b[38;5;241m=\u001b[39m (s \u001b[38;5;241m*\u001b[39m (x1 \u001b[38;5;241m-\u001b[39m x3) \u001b[38;5;241m-\u001b[39m y1) \u001b[38;5;241m%\u001b[39m p\n",
      "File \u001b[1;32mc:\\Users\\ACER\\Documents\\Junior-year-first-semester\\mm&attt\\util.py:65\u001b[0m, in \u001b[0;36mmodinv\u001b[1;34m(a, m)\u001b[0m\n\u001b[0;32m     63\u001b[0m \u001b[38;5;28;01mdef\u001b[39;00m\u001b[38;5;250m \u001b[39m\u001b[38;5;21mmodinv\u001b[39m(a, m):\n\u001b[0;32m     64\u001b[0m     a \u001b[38;5;241m=\u001b[39m a \u001b[38;5;241m%\u001b[39m m  \u001b[38;5;66;03m# đảm bảo a không âm\u001b[39;00m\n\u001b[1;32m---> 65\u001b[0m     x, y, g \u001b[38;5;241m=\u001b[39m \u001b[43megcd\u001b[49m\u001b[43m(\u001b[49m\u001b[43ma\u001b[49m\u001b[43m,\u001b[49m\u001b[43m \u001b[49m\u001b[43mm\u001b[49m\u001b[43m)\u001b[49m\n\u001b[0;32m     66\u001b[0m     \u001b[38;5;28;01mif\u001b[39;00m g \u001b[38;5;241m!=\u001b[39m \u001b[38;5;241m1\u001b[39m:\n\u001b[0;32m     67\u001b[0m         \u001b[38;5;28;01mraise\u001b[39;00m \u001b[38;5;167;01mException\u001b[39;00m(\u001b[38;5;124mf\u001b[39m\u001b[38;5;124m\"\u001b[39m\u001b[38;5;124mKhông tồn tại nghịch đảo modular cho \u001b[39m\u001b[38;5;132;01m{\u001b[39;00ma\u001b[38;5;132;01m}\u001b[39;00m\u001b[38;5;124m mod \u001b[39m\u001b[38;5;132;01m{\u001b[39;00mm\u001b[38;5;132;01m}\u001b[39;00m\u001b[38;5;124m\"\u001b[39m)\n",
      "File \u001b[1;32mc:\\Users\\ACER\\Documents\\Junior-year-first-semester\\mm&attt\\util.py:59\u001b[0m, in \u001b[0;36megcd\u001b[1;34m(a, b)\u001b[0m\n\u001b[0;32m     57\u001b[0m \u001b[38;5;28;01mif\u001b[39;00m b \u001b[38;5;241m==\u001b[39m \u001b[38;5;241m0\u001b[39m:\n\u001b[0;32m     58\u001b[0m     \u001b[38;5;28;01mreturn\u001b[39;00m (\u001b[38;5;241m1\u001b[39m, \u001b[38;5;241m0\u001b[39m, a)\n\u001b[1;32m---> 59\u001b[0m x1, y1, g \u001b[38;5;241m=\u001b[39m \u001b[43megcd\u001b[49m\u001b[43m(\u001b[49m\u001b[43mb\u001b[49m\u001b[43m,\u001b[49m\u001b[43m \u001b[49m\u001b[43ma\u001b[49m\u001b[43m \u001b[49m\u001b[38;5;241;43m%\u001b[39;49m\u001b[43m \u001b[49m\u001b[43mb\u001b[49m\u001b[43m)\u001b[49m\n\u001b[0;32m     60\u001b[0m x, y \u001b[38;5;241m=\u001b[39m y1, x1 \u001b[38;5;241m-\u001b[39m (a \u001b[38;5;241m/\u001b[39m\u001b[38;5;241m/\u001b[39m b) \u001b[38;5;241m*\u001b[39m y1\n\u001b[0;32m     61\u001b[0m \u001b[38;5;28;01mreturn\u001b[39;00m (x, y, g)\n",
      "File \u001b[1;32mc:\\Users\\ACER\\Documents\\Junior-year-first-semester\\mm&attt\\util.py:59\u001b[0m, in \u001b[0;36megcd\u001b[1;34m(a, b)\u001b[0m\n\u001b[0;32m     57\u001b[0m \u001b[38;5;28;01mif\u001b[39;00m b \u001b[38;5;241m==\u001b[39m \u001b[38;5;241m0\u001b[39m:\n\u001b[0;32m     58\u001b[0m     \u001b[38;5;28;01mreturn\u001b[39;00m (\u001b[38;5;241m1\u001b[39m, \u001b[38;5;241m0\u001b[39m, a)\n\u001b[1;32m---> 59\u001b[0m x1, y1, g \u001b[38;5;241m=\u001b[39m \u001b[43megcd\u001b[49m\u001b[43m(\u001b[49m\u001b[43mb\u001b[49m\u001b[43m,\u001b[49m\u001b[43m \u001b[49m\u001b[43ma\u001b[49m\u001b[43m \u001b[49m\u001b[38;5;241;43m%\u001b[39;49m\u001b[43m \u001b[49m\u001b[43mb\u001b[49m\u001b[43m)\u001b[49m\n\u001b[0;32m     60\u001b[0m x, y \u001b[38;5;241m=\u001b[39m y1, x1 \u001b[38;5;241m-\u001b[39m (a \u001b[38;5;241m/\u001b[39m\u001b[38;5;241m/\u001b[39m b) \u001b[38;5;241m*\u001b[39m y1\n\u001b[0;32m     61\u001b[0m \u001b[38;5;28;01mreturn\u001b[39;00m (x, y, g)\n",
      "    \u001b[1;31m[... skipping similar frames: egcd at line 59 (18 times)]\u001b[0m\n",
      "File \u001b[1;32mc:\\Users\\ACER\\Documents\\Junior-year-first-semester\\mm&attt\\util.py:59\u001b[0m, in \u001b[0;36megcd\u001b[1;34m(a, b)\u001b[0m\n\u001b[0;32m     57\u001b[0m \u001b[38;5;28;01mif\u001b[39;00m b \u001b[38;5;241m==\u001b[39m \u001b[38;5;241m0\u001b[39m:\n\u001b[0;32m     58\u001b[0m     \u001b[38;5;28;01mreturn\u001b[39;00m (\u001b[38;5;241m1\u001b[39m, \u001b[38;5;241m0\u001b[39m, a)\n\u001b[1;32m---> 59\u001b[0m x1, y1, g \u001b[38;5;241m=\u001b[39m \u001b[43megcd\u001b[49m\u001b[43m(\u001b[49m\u001b[43mb\u001b[49m\u001b[43m,\u001b[49m\u001b[43m \u001b[49m\u001b[43ma\u001b[49m\u001b[43m \u001b[49m\u001b[38;5;241;43m%\u001b[39;49m\u001b[43m \u001b[49m\u001b[43mb\u001b[49m\u001b[43m)\u001b[49m\n\u001b[0;32m     60\u001b[0m x, y \u001b[38;5;241m=\u001b[39m y1, x1 \u001b[38;5;241m-\u001b[39m (a \u001b[38;5;241m/\u001b[39m\u001b[38;5;241m/\u001b[39m b) \u001b[38;5;241m*\u001b[39m y1\n\u001b[0;32m     61\u001b[0m \u001b[38;5;28;01mreturn\u001b[39;00m (x, y, g)\n",
      "\u001b[1;31mKeyboardInterrupt\u001b[0m: "
     ]
    }
   ],
   "source": [
    "\n",
    "\n",
    "# ============================================================\n",
    "# 🧩 1️⃣ HÀM HỖ TRỢ\n",
    "# ============================================================\n",
    "\n",
    "\n",
    "\n",
    "def legendre_symbol(a, p):\n",
    "    \"\"\"Ký hiệu Legendre: 1 nếu a là bình phương mod p, -1 nếu không\"\"\"\n",
    "    ls = pow(a, (p - 1) // 2, p)\n",
    "    return -1 if ls == p - 1 else ls\n",
    "\n",
    "def mod_sqrt(a, p):\n",
    "    \"\"\"Tìm căn bậc hai mod p (khi p ≡ 3 mod 4)\"\"\"\n",
    "    if p % 4 == 3:\n",
    "        return pow(a, (p + 1) // 4, p)\n",
    "    else:\n",
    "        return None  # chỉ xử lý p mod 4 == 3 cho nhanh\n",
    "\n",
    "# ============================================================\n",
    "# 🧠 2️⃣ TÌM ĐƯỜNG CONG HỢP LỆ VỚI p LỚN\n",
    "# ============================================================\n",
    "\n",
    "def find_valid_curve(bits=64):\n",
    "    \"\"\"Sinh p lớn, a,b ngẫu nhiên, tìm G hợp lệ\"\"\"\n",
    "    while True:\n",
    "        # Sinh số nguyên tố p 64 bit, p ≡ 3 (mod 4) để tính sqrt nhanh\n",
    "        p = generate_prime_number(64)\n",
    "\n",
    "        a = random.randrange(1, p)\n",
    "        b = random.randrange(1, p)\n",
    "\n",
    "        # Tìm điểm G hợp lệ (chọn x ngẫu nhiên)\n",
    "        for _ in range(2000):\n",
    "            x = random.randrange(2, p)\n",
    "            rhs = (x**3 + a*x + b) % p\n",
    "            if legendre_symbol(rhs, p) == 1:  # tồn tại căn bậc hai\n",
    "                y = mod_sqrt(rhs, p)\n",
    "                if y is not None:\n",
    "                    return p, a, b, (x, y)\n",
    "\n",
    "\n",
    "# ============================================================\n",
    "# 🔐 4️⃣ SINH ĐƯỜNG CONG VÀ KHÓA\n",
    "# ============================================================\n",
    "\n",
    "p, a, b, G = find_valid_curve(64)\n",
    "print(f\"✅ p = {p}\")\n",
    "print(f\"✅ Đường cong: y² = x³ + {a}x + {b} (mod {p})\")\n",
    "print(f\"✅ G = {G}\")\n",
    "\n",
    "d = random.randint(2, p-2)      # Khóa bí mật\n",
    "Q = mul_point(d, G, a, p)       # Khóa công khai\n",
    "print(f\"\\n🔹 Khóa bí mật d = {d}\")\n",
    "print(f\"🔹 Khóa công khai Q = {Q}\")\n",
    "\n",
    "# ============================================================\n",
    "# ✍️ 5️⃣ KÝ\n",
    "# ============================================================\n",
    "\n",
    "message = 68\n",
    "h_val = (message + 5) % p\n",
    "k = 7\n",
    "R = mul_point(k, G, a, p)\n",
    "r = R[0] % p\n",
    "k_inv = mod_exp(k, p-2,p)\n",
    "s = (k_inv * (h_val + d * r)) % p\n",
    "\n",
    "print(f\"\\n✍️ Ký:\")\n",
    "print(f\"  h(x) = {h_val}\")\n",
    "print(f\"  k = {k}\")\n",
    "print(f\"  R = {R}\")\n",
    "print(f\"  (r, s) = ({r}, {s})\")\n",
    "\n",
    "# ============================================================\n",
    "# 🔍 6️⃣ VERIFY\n",
    "# ============================================================\n",
    "\n",
    "w = mod_exp(s,p-2, p)\n",
    "u1 = (h_val * w) % p\n",
    "u2 = (r * w) % p\n",
    "P = add_points(mul_point(u1, G, a, p), mul_point(u2, Q, a, p), a, p)\n",
    "\n",
    "print(f\"\\n🔍 Verify:\")\n",
    "print(f\"  u1 = {u1}, u2 = {u2}\")\n",
    "print(f\"  P = {P}\")\n",
    "\n",
    "if P != (\"O\", \"O\") and (P[0] % p) == r:\n",
    "    print(\"✅ Chữ ký hợp lệ (Valid Signature)\")\n",
    "else:\n",
    "    print(\"❌ Chữ ký không hợp lệ (Invalid Signature)\")\n"
   ]
  }
 ],
 "metadata": {
  "kernelspec": {
   "display_name": "crypto",
   "language": "python",
   "name": "crypto"
  },
  "language_info": {
   "codemirror_mode": {
    "name": "ipython",
    "version": 3
   },
   "file_extension": ".py",
   "mimetype": "text/x-python",
   "name": "python",
   "nbconvert_exporter": "python",
   "pygments_lexer": "ipython3",
   "version": "3.10.18"
  }
 },
 "nbformat": 4,
 "nbformat_minor": 5
}
