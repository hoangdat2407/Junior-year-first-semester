{
 "cells": [
  {
   "cell_type": "markdown",
   "id": "75529fb0",
   "metadata": {},
   "source": [
    "**Import**"
   ]
  },
  {
   "cell_type": "code",
   "execution_count": 1,
   "id": "e145735c",
   "metadata": {},
   "outputs": [],
   "source": [
    "from util import name_decrypt, name_encrypt, egcd, modinv, mod_exp, generate_prime_number"
   ]
  },
  {
   "cell_type": "markdown",
   "id": "4e0d7eca",
   "metadata": {},
   "source": [
    "**Name encode**"
   ]
  },
  {
   "cell_type": "code",
   "execution_count": 14,
   "id": "4c1a4df6",
   "metadata": {},
   "outputs": [
    {
     "name": "stdout",
     "output_type": "stream",
     "text": [
      "📤 Mã hóa: 9524\n",
      "📥 Giải mã: MAT\n"
     ]
    }
   ],
   "source": [
    "\n",
    "# 🧪 Test thử:\n",
    "text = \"mat\"\n",
    "encoded = name_encrypt(text)\n",
    "decoded = name_decrypt(encoded)\n",
    "x = encoded\n",
    "print(\"📤 Mã hóa:\", encoded)\n",
    "print(\"📥 Giải mã:\", decoded)"
   ]
  },
  {
   "cell_type": "markdown",
   "id": "61719b4c",
   "metadata": {},
   "source": [
    "**RSA**"
   ]
  },
  {
   "cell_type": "code",
   "execution_count": 15,
   "id": "f902a86f",
   "metadata": {},
   "outputs": [
    {
     "name": "stdout",
     "output_type": "stream",
     "text": [
      "n_a = 6929798512067894632188160142397122546537276893511482167515705542776304156815593250293496171584143211, phi_a = 6929798512067894632188160142397122546537276893511315614188453871875165744493123543218695734050988872, d_a = 1452248961217477166476812864495135478016936599562684210734369657296610488919144510711628806193378797\n"
     ]
    },
    {
     "ename": "NameError",
     "evalue": "name 'c_m_a' is not defined",
     "output_type": "error",
     "traceback": [
      "\u001b[31m---------------------------------------------------------------------------\u001b[39m",
      "\u001b[31mNameError\u001b[39m                                 Traceback (most recent call last)",
      "\u001b[36mCell\u001b[39m\u001b[36m \u001b[39m\u001b[32mIn[15]\u001b[39m\u001b[32m, line 40\u001b[39m\n\u001b[32m     35\u001b[39m d_b = \u001b[32m40873\u001b[39m\n\u001b[32m     36\u001b[39m \u001b[38;5;66;03m#print all\u001b[39;00m\n\u001b[32m     37\u001b[39m \u001b[38;5;66;03m# print(f\"Message A: {m_a} \\n Text A: {name_decrypt(m_a)}\")\u001b[39;00m\n\u001b[32m     38\u001b[39m \u001b[38;5;66;03m# print(f\"Private key A: (p_a={p_a}, q_a={q_a}, d_a={(p_a-1)*(q_a-1)//e_a})\")\u001b[39;00m\n\u001b[32m     39\u001b[39m \u001b[38;5;66;03m# print(f\"Public key A: (n_a={p_a * q_a}, e_a={e_a})\")\u001b[39;00m\n\u001b[32m---> \u001b[39m\u001b[32m40\u001b[39m c_m_a, sig_sig_m_a, n_a, e_a = \u001b[43mRsaEncrypt\u001b[49m\u001b[43m(\u001b[49m\u001b[43mm_a\u001b[49m\u001b[43m,\u001b[49m\u001b[43m \u001b[49m\u001b[43mp_a\u001b[49m\u001b[43m,\u001b[49m\u001b[43m \u001b[49m\u001b[43mq_a\u001b[49m\u001b[43m,\u001b[49m\u001b[43m \u001b[49m\u001b[43me_a\u001b[49m\u001b[43m,\u001b[49m\u001b[43m \u001b[49m\u001b[43mn_b\u001b[49m\u001b[43m,\u001b[49m\u001b[43m \u001b[49m\u001b[43me_b\u001b[49m\u001b[43m)\u001b[49m\n\u001b[32m     41\u001b[39m \u001b[38;5;66;03m# m_recv, sig_recv, verify_ok = RsaDecrypt(c_m_a, sig_sig_m_a, n_a, e_a, n_b, d_b)\u001b[39;00m\n\u001b[32m     42\u001b[39m \n\u001b[32m     43\u001b[39m \u001b[38;5;66;03m# print(f\"Message decrypted: {m_recv}\\n Text decrypted: {name_decrypt(m_recv)}\")\u001b[39;00m\n\u001b[32m     44\u001b[39m \u001b[38;5;66;03m# print(f\"Signature valid: {verify_ok}\")\u001b[39;00m\n",
      "\u001b[36mCell\u001b[39m\u001b[36m \u001b[39m\u001b[32mIn[15]\u001b[39m\u001b[32m, line 20\u001b[39m, in \u001b[36mRsaEncrypt\u001b[39m\u001b[34m(m_a, p_a, q_a, e_a, n_b, e_b)\u001b[39m\n\u001b[32m     15\u001b[39m \u001b[38;5;28mprint\u001b[39m(\u001b[33mf\u001b[39m\u001b[33m\"\u001b[39m\u001b[33mn_a = \u001b[39m\u001b[38;5;132;01m{\u001b[39;00mn_a\u001b[38;5;132;01m}\u001b[39;00m\u001b[33m, phi_a = \u001b[39m\u001b[38;5;132;01m{\u001b[39;00mphi_a\u001b[38;5;132;01m}\u001b[39;00m\u001b[33m, d_a = \u001b[39m\u001b[38;5;132;01m{\u001b[39;00md_a\u001b[38;5;132;01m}\u001b[39;00m\u001b[33m\"\u001b[39m)\n\u001b[32m     16\u001b[39m \u001b[38;5;66;03m# c_m_a = encrypt(m_a, n_b, e_b)\u001b[39;00m\n\u001b[32m     17\u001b[39m \u001b[38;5;66;03m# sig_m_a = encrypt(m_a, n_a, d_a)\u001b[39;00m\n\u001b[32m     18\u001b[39m \u001b[38;5;66;03m# sig_sig_m_a = encrypt(sig_m_a, n_b, e_b)\u001b[39;00m\n\u001b[32m---> \u001b[39m\u001b[32m20\u001b[39m \u001b[38;5;28;01mreturn\u001b[39;00m \u001b[43mc_m_a\u001b[49m, sig_sig_m_a, n_a, e_a\n",
      "\u001b[31mNameError\u001b[39m: name 'c_m_a' is not defined"
     ]
    }
   ],
   "source": [
    "\n",
    "\n",
    "def encrypt(m, n, e):\n",
    "    if not (0 <= m < n):\n",
    "        raise ValueError(\"Message integer m must satisfy 0 <= m < n.\")\n",
    "    return mod_exp(m, e, n)\n",
    "\n",
    "def decrypt(c, n, d):\n",
    "    if not (0 <= c < n):\n",
    "        raise ValueError(\"Ciphertext integer c must satisfy 0 <= c < n.\")\n",
    "    return mod_exp(c, d, n)\n",
    "\n",
    "def RsaEncrypt(m_a, p_a, q_a, e_a, n_b, e_b):\n",
    "    n_a = p_a * q_a\n",
    "    phi_a = (p_a - 1) * (q_a - 1)\n",
    "    d_a = modinv(e_a, phi_a)\n",
    "    print(f\"n_a = {n_a}, phi_a = {phi_a}, d_a = {d_a}\")\n",
    "    # c_m_a = encrypt(m_a, n_b, e_b)\n",
    "    # sig_m_a = encrypt(m_a, n_a, d_a)\n",
    "    # sig_sig_m_a = encrypt(sig_m_a, n_b, e_b)\n",
    "\n",
    "    return c_m_a, sig_sig_m_a, n_a, e_a\n",
    "\n",
    "def RsaDecrypt(c_m_a, sig_sig_m_a, n_a, e_a, n_b, d_b):\n",
    "    d_m_a = decrypt(c_m_a, n_b, d_b)\n",
    "    sig_recv = decrypt(sig_sig_m_a, n_b, d_b)\n",
    "    verify_ok = (mod_exp(sig_recv, e_a, n_a) == d_m_a % n_a)\n",
    "    return d_m_a, sig_recv, verify_ok\n",
    "\n",
    "# ===== Demo =====\n",
    "m_a = 9524\n",
    "p_a = generate_prime_number(166)\n",
    "q_a = generate_prime_number(166)\n",
    "e_a = 9973\n",
    "n_b = 1287719\n",
    "e_b = 4057\n",
    "d_b = 40873\n",
    "#print all\n",
    "# print(f\"Message A: {m_a} \\n Text A: {name_decrypt(m_a)}\")\n",
    "# print(f\"Private key A: (p_a={p_a}, q_a={q_a}, d_a={(p_a-1)*(q_a-1)//e_a})\")\n",
    "# print(f\"Public key A: (n_a={p_a * q_a}, e_a={e_a})\")\n",
    "c_m_a, sig_sig_m_a, n_a, e_a = RsaEncrypt(m_a, p_a, q_a, e_a, n_b, e_b)\n",
    "# m_recv, sig_recv, verify_ok = RsaDecrypt(c_m_a, sig_sig_m_a, n_a, e_a, n_b, d_b)\n",
    "\n",
    "# print(f\"Message decrypted: {m_recv}\\n Text decrypted: {name_decrypt(m_recv)}\")\n",
    "# print(f\"Signature valid: {verify_ok}\")\n"
   ]
  }
 ],
 "metadata": {
  "kernelspec": {
   "display_name": "Python (crypt)",
   "language": "python",
   "name": "crypt"
  },
  "language_info": {
   "codemirror_mode": {
    "name": "ipython",
    "version": 3
   },
   "file_extension": ".py",
   "mimetype": "text/x-python",
   "name": "python",
   "nbconvert_exporter": "python",
   "pygments_lexer": "ipython3",
   "version": "3.13.7"
  }
 },
 "nbformat": 4,
 "nbformat_minor": 5
}
