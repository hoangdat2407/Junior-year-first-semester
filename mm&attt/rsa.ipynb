{
 "cells": [
  {
   "cell_type": "markdown",
   "id": "75529fb0",
   "metadata": {},
   "source": [
    "**Import**"
   ]
  },
  {
   "cell_type": "code",
   "execution_count": 1,
   "id": "e145735c",
   "metadata": {},
   "outputs": [],
   "source": [
    "from util import name_decrypt, name_encrypt, egcd, modinv, mod_exp, generate_prime_number"
   ]
  },
  {
   "cell_type": "markdown",
   "id": "4e0d7eca",
   "metadata": {},
   "source": [
    "**Name encode**"
   ]
  },
  {
   "cell_type": "code",
   "execution_count": 36,
   "id": "4c1a4df6",
   "metadata": {},
   "outputs": [
    {
     "name": "stdout",
     "output_type": "stream",
     "text": [
      "📤 Mã hóa: 1284457829706343127\n",
      "📥 Giải mã: HOANGTHANHDAT\n"
     ]
    }
   ],
   "source": [
    "\n",
    "# 🧪 Test thử:\n",
    "text = \"hoangthanhdat\"\n",
    "encoded = name_encrypt(text)\n",
    "decoded = name_decrypt(encoded)\n",
    "x = encoded\n",
    "print(\"📤 Mã hóa:\", encoded)\n",
    "print(\"📥 Giải mã:\", decoded)"
   ]
  },
  {
   "cell_type": "markdown",
   "id": "a7a8609c",
   "metadata": {},
   "source": [
    "**A, B param**"
   ]
  },
  {
   "cell_type": "code",
   "execution_count": 31,
   "id": "9eac4096",
   "metadata": {},
   "outputs": [],
   "source": [
    "m_b = 9524 #+\n",
    "\n",
    "p_b = generate_prime_number(166)#-\n",
    "q_b = generate_prime_number(166)#-\n",
    "n_b = p_b * q_b#+\n",
    "phi_b = (p_b - 1) * (q_b - 1)#-\n",
    "e_b = 9973#+\n",
    "d_b = modinv(e_b, phi_b)#-\n",
    "\n",
    "m_a = 9524 #+\n",
    "p_a = generate_prime_number(166)#-\n",
    "q_a = generate_prime_number(166)#-\n",
    "n_a = p_a * q_a#+\n",
    "phi_a = (p_a - 1) * (q_a - 1)#-\n",
    "e_a = 9973#+\n",
    "d_a = modinv(e_a, phi_a)#-\n",
    "\n"
   ]
  },
  {
   "cell_type": "markdown",
   "id": "ca386cf7",
   "metadata": {},
   "source": [
    "- **Print param**"
   ]
  },
  {
   "cell_type": "code",
   "execution_count": 33,
   "id": "103326d2",
   "metadata": {},
   "outputs": [
    {
     "name": "stdout",
     "output_type": "stream",
     "text": [
      "A's params:\n",
      " p_a=84107276193417175287847477012472727660292638350593\n",
      " q_a=78008911573161777197713228580679946926996692149087\n",
      " e_a=9973\n",
      " d_a=5800598537757000015568557845106498812796291318853087709870389142219983677447922913530386909207937885 \n",
      " n_a=6561117071231775111178998229471148084384417979235938880454228064192351412490569359620095812130858591\n",
      "B's params:\n",
      " p_b=78861597877521005090586612854067268103900495486917\n",
      " q_b=64636028535653168794190040256159863270516202085903\n",
      " e_b=9973\n",
      " d_b=3325281960594196006729993260658640503957240980751103043217159637643710168002532927785491873110094541 \n",
      " n_b=5097300490778653054890596801190996272051270258381752881273006021733171820226620969339291793046631051\n"
     ]
    }
   ],
   "source": [
    "print(f\"A's params:\\n p_a={p_a}\\n q_a={q_a}\\n e_a={e_a}\\n d_a={d_a} \\n n_a={n_a}\")\n",
    "print(f\"B's params:\\n p_b={p_b}\\n q_b={q_b}\\n e_b={e_b}\\n d_b={d_b} \\n n_b={n_b}\")\n"
   ]
  },
  {
   "cell_type": "markdown",
   "id": "61719b4c",
   "metadata": {},
   "source": [
    "**RSA**"
   ]
  },
  {
   "cell_type": "code",
   "execution_count": 37,
   "id": "f902a86f",
   "metadata": {},
   "outputs": [
    {
     "name": "stdout",
     "output_type": "stream",
     "text": [
      "n_a = 6561117071231775111178998229471148084384417979235938880454228064192351412490569359620095812130858591, phi_a = 6561117071231775111178998229471148084384417979235776764266461485239865851784976206945508522800358912, d_a = 5800598537757000015568557845106498812796291318853087709870389142219983677447922913530386909207937885\n",
      "m_a = 1284457829706343127 \n",
      "\n",
      "Encrypting message m=1284457829706343127 with public key (n=5097300490778653054890596801190996272051270258381752881273006021733171820226620969339291793046631051, e=9973)\n",
      "Encrypting message m=1284457829706343127 with public key (n=6561117071231775111178998229471148084384417979235938880454228064192351412490569359620095812130858591, e=5800598537757000015568557845106498812796291318853087709870389142219983677447922913530386909207937885)\n",
      "Encrypting message m=585560644566876376569076747339842735432436240523510052908663958183986402216783633100414793001222028 with public key (n=5097300490778653054890596801190996272051270258381752881273006021733171820226620969339291793046631051, e=9973)\n",
      "Message decrypted: 1284457829706343127\n",
      " Text decrypted: HOANGTHANHDAT\n",
      "Signature valid: True\n"
     ]
    }
   ],
   "source": [
    "\n",
    "\n",
    "def encrypt(m, n, e):\n",
    "    print(f\"Encrypting message m={m} with public key (n={n}, e={e})\")\n",
    "    if not (0 <= m < n):\n",
    "        raise ValueError(\"Message integer m must satisfy 0 <= m < n.\")\n",
    "    return mod_exp(m, e, n)\n",
    "\n",
    "def decrypt(c, n, d):\n",
    "    if not (0 <= c < n):\n",
    "        raise ValueError(\"Ciphertext integer c must satisfy 0 <= c < n.\")\n",
    "    return mod_exp(c, d, n)\n",
    "\n",
    "def RsaEncrypt(m_a, p_a, q_a, e_a, d_a, n_b, e_b):\n",
    "    n_a = p_a * q_a\n",
    "    \n",
    "    print(f\"n_a = {n_a}, phi_a = {phi_a}, d_a = {d_a}\")\n",
    "    print(f\"m_a = {m_a} \\n\")\n",
    "    c_m_a = encrypt(m_a, n_b, e_b)\n",
    "    sig_m_a = encrypt(m_a, n_a, d_a)\n",
    "    sig_sig_m_a = encrypt(sig_m_a, n_b, e_b)\n",
    "    return c_m_a, sig_sig_m_a, n_a, e_a\n",
    "\n",
    "def RsaDecrypt(c_m_a, sig_sig_m_a, n_a, e_a, n_b, d_b):\n",
    "    d_m_a = decrypt(c_m_a, n_b, d_b)\n",
    "    sig_recv = decrypt(sig_sig_m_a, n_b, d_b)\n",
    "    verify_ok = (mod_exp(sig_recv, e_a, n_a) == d_m_a % n_a)\n",
    "    return d_m_a, sig_recv, verify_ok\n",
    "\n",
    "# ===== Demo =====\n",
    "m_a = encoded  # message from A to B\n",
    "#print all\n",
    "# print(f\"Message A: {m_a} \\n Text A: {name_decrypt(m_a)}\")\n",
    "# print(f\"Private key A: (p_a={p_a}, q_a={q_a}, d_a={(p_a-1)*(q_a-1)//e_a})\")\n",
    "# print(f\"Public key A: (n_a={p_a * q_a}, e_a={e_a})\")\n",
    "c_m_a, sig_sig_m_a, n_a, e_a = RsaEncrypt(m_a, p_a, q_a, e_a, d_a, n_b, e_b)\n",
    "m_recv, sig_recv, verify_ok = RsaDecrypt(c_m_a, sig_sig_m_a, n_a, e_a, n_b, d_b)\n",
    "\n",
    "print(f\"Message decrypted: {m_recv}\\n Text decrypted: {name_decrypt(m_recv)}\")\n",
    "print(f\"Signature valid: {verify_ok}\")\n"
   ]
  }
 ],
 "metadata": {
  "kernelspec": {
   "display_name": "Python (crypt)",
   "language": "python",
   "name": "crypt"
  },
  "language_info": {
   "codemirror_mode": {
    "name": "ipython",
    "version": 3
   },
   "file_extension": ".py",
   "mimetype": "text/x-python",
   "name": "python",
   "nbconvert_exporter": "python",
   "pygments_lexer": "ipython3",
   "version": "3.13.7"
  }
 },
 "nbformat": 4,
 "nbformat_minor": 5
}
