{
 "cells": [
  {
   "cell_type": "markdown",
   "id": "3b09b3e9",
   "metadata": {},
   "source": [
    "**Import**"
   ]
  },
  {
   "cell_type": "code",
   "execution_count": null,
   "id": "f0e947de",
   "metadata": {},
   "outputs": [],
   "source": [
    "from util import name_decrypt, name_encrypt, egcd, modinv, mod_exp, generate_prime_number, find_primitive_root"
   ]
  },
  {
   "cell_type": "markdown",
   "id": "cc54bc20",
   "metadata": {},
   "source": [
    "**Elgamal setup**"
   ]
  },
  {
   "cell_type": "code",
   "execution_count": null,
   "id": "e02d1486",
   "metadata": {},
   "outputs": [],
   "source": [
    "def elgamal_setup(p, a):\n",
    "    alpha = find_primitive_root(p)\n",
    "    beta = pow(alpha, a, p)\n",
    "    return alpha, beta\n"
   ]
  },
  {
   "cell_type": "markdown",
   "id": "ad975b8b",
   "metadata": {},
   "source": [
    "**Encrypt & Decrypt**"
   ]
  },
  {
   "cell_type": "code",
   "execution_count": null,
   "id": "7cb1b060",
   "metadata": {},
   "outputs": [],
   "source": [
    "def elgamal_encrypt(p, alpha, beta, x, k_enc):\n",
    "    c1 = pow(alpha, k_enc, p)\n",
    "    c2 = (x * pow(beta, k_enc, p)) % p\n",
    "    return c1, c2\n",
    "\n",
    "def elgamal_decrypt(p, a, c1, c2):\n",
    "    s = pow(c1, a, p)\n",
    "    inv_s = modinv(s, p)\n",
    "    return (c2 * inv_s) % p\n",
    "\n",
    "def elgamal_sign(p, alpha, a, x, k_sig):\n",
    "    phi = p - 1\n",
    "    gamma = pow(alpha, k_sig, p)\n",
    "    inv_k = modinv(k_sig, phi)\n",
    "    delta = ((x - a * gamma) * inv_k) % phi\n",
    "    return gamma, delta\n",
    "\n",
    "def elgamal_verify(p, alpha, beta, x, gamma, delta):\n",
    "    left = pow(alpha, x, p)\n",
    "    right = (pow(beta, gamma, p) * pow(gamma, delta, p)) % p\n",
    "    return left == right"
   ]
  },
  {
   "cell_type": "markdown",
   "id": "3ce9b5b5",
   "metadata": {},
   "source": [
    "**Input & Output**"
   ]
  },
  {
   "cell_type": "code",
   "execution_count": null,
   "id": "58ff6768",
   "metadata": {},
   "outputs": [],
   "source": [
    "# ALICE\n",
    "p1 = generate_prime_number(64)\n",
    "a1 = 61\n",
    "alpha1, beta1 = elgamal_setup(p1, a1)\n",
    "x = 101\n"
   ]
  },
  {
   "cell_type": "code",
   "execution_count": null,
   "id": "e6a1e41a",
   "metadata": {},
   "outputs": [],
   "source": [
    "# BOB\n",
    "p2 = generate_prime_number(64)\n",
    "a2 = 97\n",
    "alpha2, beta2 = elgamal_setup(p2, a2)"
   ]
  },
  {
   "cell_type": "markdown",
   "id": "30478394",
   "metadata": {},
   "source": [
    "**Encrypt & Sign output**"
   ]
  },
  {
   "cell_type": "code",
   "execution_count": null,
   "id": "c9e5d6a8",
   "metadata": {},
   "outputs": [],
   "source": [
    "k_enc = 853 % (p2 - 1)\n",
    "k_sig = 467 % (p1 - 1)\n",
    "\n",
    "# Mã hóa\n",
    "c1, c2 = elgamal_encrypt(p2, alpha2, beta2, x, k_enc)\n",
    "\n",
    "# Ký\n",
    "gamma, delta = elgamal_sign(p2, alpha2, a2, x, k_sig)\n"
   ]
  },
  {
   "cell_type": "markdown",
   "id": "deaf8608",
   "metadata": {},
   "source": [
    "**Decrypt & Sign output**"
   ]
  },
  {
   "cell_type": "code",
   "execution_count": null,
   "id": "b5ef4a2b",
   "metadata": {},
   "outputs": [
    {
     "name": "stdout",
     "output_type": "stream",
     "text": [
      "=== ALICE gửi ===\n",
      "p=15491260832776625233, α=10, a=61, β=8148855015893648703\n",
      "Tin gốc x=101\n",
      "Bản mã: (c1, c2)=(11318117162897770609, 13114876142615031979)\n",
      "Chữ ký: (γ, δ)=(12833209928943592131, 4584598466153040514)\n"
     ]
    }
   ],
   "source": [
    "print(\"=== ALICE gửi ===\")\n",
    "print(f\"p={p1}, α={alpha1}, a={a1}, β={beta1}\")\n",
    "print(f\"Tin gốc x={x}\")\n",
    "print(f\"Bản mã: (c1, c2)=({c1}, {c2})\")\n",
    "print(f\"Chữ ký: (γ, δ)=({gamma}, {delta})\")"
   ]
  },
  {
   "cell_type": "code",
   "execution_count": null,
   "id": "42323539",
   "metadata": {},
   "outputs": [
    {
     "name": "stdout",
     "output_type": "stream",
     "text": [
      "\n",
      "=== BOB nhận ===\n",
      "Giải mã x=101\n",
      "Xác thực chữ ký: ĐÚNG ✅\n"
     ]
    }
   ],
   "source": [
    "x_decrypted = elgamal_decrypt(p2, a2, c1, c2)\n",
    "verify = elgamal_verify(p2, alpha2, beta2, x_decrypted, gamma, delta)\n",
    "\n",
    "print(\"\\n=== BOB nhận ===\")\n",
    "print(f\"Giải mã x={x_decrypted}\")\n",
    "print(f\"Xác thực chữ ký: {'ĐÚNG ✅' if verify else 'SAI ❌'}\")"
   ]
  }
 ],
 "metadata": {
  "kernelspec": {
   "display_name": "crypto",
   "language": "python",
   "name": "crypto"
  },
  "language_info": {
   "codemirror_mode": {
    "name": "ipython",
    "version": 3
   },
   "file_extension": ".py",
   "mimetype": "text/x-python",
   "name": "python",
   "nbconvert_exporter": "python",
   "pygments_lexer": "ipython3",
   "version": "3.10.18"
  }
 },
 "nbformat": 4,
 "nbformat_minor": 5
}
